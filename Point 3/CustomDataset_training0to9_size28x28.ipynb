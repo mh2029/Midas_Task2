{
  "nbformat": 4,
  "nbformat_minor": 0,
  "metadata": {
    "colab": {
      "name": "CustomDataset_training0to9_size28x28",
      "provenance": [],
      "collapsed_sections": []
    },
    "kernelspec": {
      "display_name": "Python 3",
      "name": "python3"
    },
    "accelerator": "GPU"
  },
  "cells": [
    {
      "cell_type": "markdown",
      "metadata": {
        "id": "7s5hqRNpHhDy"
      },
      "source": [
        "#Imports and Download custom dataset\n",
        "1.Custom Dataset download from this [this](https://www.dropbox.com/s/pan6mutc5xj5kj0/trainPart1.zip)\n",
        "2. Basic Imports "
      ]
    },
    {
      "cell_type": "code",
      "metadata": {
        "id": "OOY1C2WKB6wG"
      },
      "source": [
        "import os\n",
        "import matplotlib.pyplot as plt\n",
        "import cv2\n",
        "from sklearn.metrics import accuracy_score\n",
        "import random\n",
        "import numpy as np\n",
        "import tensorflow as tf\n",
        "from numpy.random import randint\n",
        "from tensorflow.keras.layers import Conv2D\n",
        "from tensorflow.keras.regularizers import l2\n",
        "from tensorflow.keras.layers import Input, Conv2D, MaxPooling2D, Dense, Flatten, Dropout, Activation, BatchNormalization\n",
        "from tensorflow.keras.callbacks import ReduceLROnPlateau\n",
        "from sklearn.model_selection import train_test_split\n",
        "from sklearn.preprocessing import OneHotEncoder\n",
        "from google.colab.patches import cv2_imshow\n",
        "import tensorflow_datasets as tfds\n",
        "%matplotlib inline\n",
        "!wget https://www.dropbox.com/s/pan6mutc5xj5kj0/trainPart1.zip\n",
        "!unzip /content/trainPart1.zip"
      ],
      "execution_count": null,
      "outputs": []
    },
    {
      "cell_type": "markdown",
      "metadata": {
        "id": "_sS4Scd7fzqs"
      },
      "source": [
        "#Preprocessing\n",
        "- ```bounder```: This function extracts the region of interest around the digit/character, since the characters do not fill the entire image\n",
        "- In the next code block we iterate over the directories and for the supervised examples X and Y. \n",
        "- The following preprocessing has been applied to the image\n",
        "  1. Image is converted to grayscale\n",
        "  2. pixels are inverted thorugh ``cv2_bitwise``\n",
        "  3. Images are resized to uniform shape of ``input_shape=(64,64)``\n",
        "  4. Edges are smoothened using Gaussian Blur\n",
        "  5. Label vector of dimension ``classes=10`` is formed, for 0-9 digit"
      ]
    },
    {
      "cell_type": "code",
      "metadata": {
        "id": "t9Ob23DTPMd8"
      },
      "source": [
        "input_shape=(28,28,1) \n",
        "par_dir=\"/content/train\"\n",
        "classes=10\n",
        "dicti={}"
      ],
      "execution_count": null,
      "outputs": []
    },
    {
      "cell_type": "code",
      "metadata": {
        "id": "ILb3IVKWVngT"
      },
      "source": [
        "def bounder(thresh,margin=12):\n",
        "  sh=thresh.shape\n",
        "  x_min,x_max,y_min,y_max=10000,-10000,10000,-10000\n",
        "  for x in range(sh[0]):\n",
        "    if np.amax(thresh[x])!=0: x_min,x_max=min(x_min,x),max(x_max,x)\n",
        "  for y in range(sh[1]):\n",
        "    if np.amax(thresh.T[y])!=0: y_min,y_max=min(y_min,y),max(y_max,y)\n",
        "  return thresh[max(x_min-margin,0):min(x_max+margin,sh[1]),max(y_min-margin,0):min(y_max+margin,sh[1])]"
      ],
      "execution_count": null,
      "outputs": []
    },
    {
      "cell_type": "code",
      "metadata": {
        "id": "lRWelRgMIqvy"
      },
      "source": [
        "X,Y = [],[]\n",
        "for foldername in os.listdir(par_dir):\n",
        "  if int(foldername[-2:])-1>9: continue\n",
        "  for filename in os.listdir(par_dir+\"/\"+str(foldername)):\n",
        "    filepath=par_dir+\"/\"+str(foldername)+\"/\"+str(filename)\n",
        "    image=cv2.imread(filepath)\n",
        "    thresh = cv2.cvtColor(image, cv2.COLOR_BGR2GRAY)\n",
        "    thresh = cv2.bitwise_not(thresh)\n",
        "    thresh=cv2.GaussianBlur(cv2.resize(bounder(thresh,24),(28,28)), (3, 3), 0)\n",
        "    X.append(thresh)\n",
        "    vec=np.zeros(classes)\n",
        "    dicti[int(foldername[-2:])-1]=thresh\n",
        "    vec[int(foldername[-2:])-1]=1\n",
        "    Y.append(vec) \n",
        "X=np.expand_dims(np.array(X),3)\n",
        "Y=np.array(Y)"
      ],
      "execution_count": null,
      "outputs": []
    },
    {
      "cell_type": "code",
      "metadata": {
        "colab": {
          "base_uri": "https://localhost:8080/",
          "height": 92
        },
        "id": "-smh1C_NYtd3",
        "outputId": "c3015abf-7694-4a62-b9b1-46688d43a9b2"
      },
      "source": [
        "plt.figure(figsize=(20,4))\n",
        "for i,k in enumerate(sorted(dicti.keys())):\n",
        "  plt.subplot(3,21,i+1)\n",
        "  plt.axis('off')\n",
        "  plt.imshow(np.squeeze(dicti[k]),'gray')\n",
        "  plt.title(str(k))"
      ],
      "execution_count": null,
      "outputs": [
        {
          "output_type": "display_data",
          "data": {
            "image/png": "[encoded data removed]",
            "text/plain": [
              "<Figure size 1440x288 with 10 Axes>"
            ]
          },
          "metadata": {
            "tags": [],
            "needs_background": "light"
          }
        }
      ]
    },
    {
      "cell_type": "markdown",
      "metadata": {
        "id": "treBU3Usqik8"
      },
      "source": [
        "#Training on 0-9 digits from custom dataset"
      ]
    },
    {
      "cell_type": "markdown",
      "metadata": {
        "id": "7eTaL3-aqmIV"
      },
      "source": [
        "### Model\n",
        "1. A 70-30 split is performed in the dataset\n",
        "2. We define a keras data augmenter, ```ImageDataGenerator``` which will augment images on the fly. We resort to only rotating the images.\n",
        "3. The same Modified LeNet model used earlier for training 62 classes, is used"
      ]
    },
    {
      "cell_type": "code",
      "metadata": {
        "colab": {
          "base_uri": "https://localhost:8080/"
        },
        "id": "Un3BMIkvJat1",
        "outputId": "2160345f-bb1c-456c-b4ba-c66e41fb28b5"
      },
      "source": [
        "X_train, X_test, Y_train, Y_test = train_test_split( X, Y, test_size=0.30)\n",
        "print(X_train.shape,Y_train.shape,X_test.shape,Y_test.shape)\n",
        "datagen = tf.keras.preprocessing.image.ImageDataGenerator(rotation_range=30, horizontal_flip=False)\n",
        "datagen.fit(X_train)"
      ],
      "execution_count": null,
      "outputs": [
        {
          "output_type": "stream",
          "text": [
            "(280, 28, 28, 1) (280, 10) (120, 28, 28, 1) (120, 10)\n"
          ],
          "name": "stdout"
        }
      ]
    },
    {
      "cell_type": "code",
      "metadata": {
        "id": "9Hh7cwQ3nG_Z"
      },
      "source": [
        "training =True"
      ],
      "execution_count": null,
      "outputs": []
    },
    {
      "cell_type": "code",
      "metadata": {
        "id": "V9wdKYf-FSKM",
        "colab": {
          "base_uri": "https://localhost:8080/"
        },
        "outputId": "1de2a54c-03e5-4d6e-b58d-f5bc1c8c6da1"
      },
      "source": [
        "!\n",
        "def CustomCNN_arch(input_shape = (64, 64, 1), classes = 10):\n",
        "  model = tf.keras.Sequential([\n",
        "  Conv2D(filters = 32, kernel_size = 5, strides = 1, activation = 'relu', input_shape = input_shape),\n",
        "  Conv2D(filters = 32, kernel_size = 5, strides = 1, use_bias=False),  \n",
        "  BatchNormalization(), Activation(\"relu\"), MaxPooling2D(pool_size = 2, strides = 2), Dropout(0.25), \n",
        "  Conv2D(filters = 64, kernel_size = 3, strides = 1, activation = 'relu'),\n",
        "  Conv2D(filters = 64, kernel_size = 3, strides = 1, use_bias=False),\n",
        "  BatchNormalization(), Activation(\"relu\"), MaxPooling2D(pool_size = 2, strides = 2), Dropout(0.25),\n",
        "  Flatten(name = 'flatten'),\n",
        "  Dense(units = 256), BatchNormalization(), Activation(\"relu\"),  \n",
        "  Dense(units = 128), BatchNormalization(), Activation(\"relu\"),\n",
        "  Dropout(0.25),\n",
        "  Dense(units = classes, activation = 'softmax')])\n",
        "  return model\n",
        "checkpoint_filepath = '/content/weights-improvement-{epoch:02d}-{val_accuracy:.2f}.hdf5'\n",
        "model_checkpoint_callback = tf.keras.callbacks.ModelCheckpoint(filepath=checkpoint_filepath, save_weights_only=True,\n",
        "                                                               monitor='val_accuracy', mode='max', save_best_only=True)\n",
        "variable_learning_rate = ReduceLROnPlateau(monitor='val_loss', factor = 0.2, patience = 7)\n",
        "if training:\n",
        "  model = CustomCNN_arch(input_shape = input_shape, classes = classes)\n",
        "  model.compile(optimizer='adam', loss='categorical_crossentropy', metrics=['accuracy'])\n",
        "  model.fit(datagen.flow(X_train, Y_train, batch_size=32),\n",
        "            steps_per_epoch=len(X_train) / 32, epochs=100,\n",
        "            callbacks = [variable_learning_rate,model_checkpoint_callback], validation_data = (X_test,Y_test)) \n"
      ],
      "execution_count": null,
      "outputs": [
        {
          "output_type": "stream",
          "text": [
            "Epoch 1/100\n",
            "8/8 [==============================] - 31s 120ms/step - loss: 2.5361 - accuracy: 0.1339 - val_loss: 4.7475 - val_accuracy: 0.1417\n",
            "Epoch 2/100\n",
            "8/8 [==============================] - 0s 21ms/step - loss: 1.6301 - accuracy: 0.4202 - val_loss: 4.2158 - val_accuracy: 0.1917\n",
            "Epoch 3/100\n",
            "8/8 [==============================] - 0s 25ms/step - loss: 1.2551 - accuracy: 0.5396 - val_loss: 4.2155 - val_accuracy: 0.2417\n",
            "Epoch 4/100\n",
            "8/8 [==============================] - 0s 22ms/step - loss: 1.0310 - accuracy: 0.6411 - val_loss: 4.6001 - val_accuracy: 0.2833\n",
            "Epoch 5/100\n",
            "8/8 [==============================] - 0s 21ms/step - loss: 0.9630 - accuracy: 0.6901 - val_loss: 4.3917 - val_accuracy: 0.2750\n",
            "Epoch 6/100\n",
            "8/8 [==============================] - 0s 22ms/step - loss: 0.8498 - accuracy: 0.7269 - val_loss: 2.6589 - val_accuracy: 0.4083\n",
            "Epoch 7/100\n",
            "8/8 [==============================] - 0s 22ms/step - loss: 0.7614 - accuracy: 0.7606 - val_loss: 1.5682 - val_accuracy: 0.6167\n",
            "Epoch 8/100\n",
            "8/8 [==============================] - 0s 21ms/step - loss: 0.5865 - accuracy: 0.8247 - val_loss: 1.0926 - val_accuracy: 0.6833\n",
            "Epoch 9/100\n",
            "8/8 [==============================] - 0s 25ms/step - loss: 0.4905 - accuracy: 0.8736 - val_loss: 0.9693 - val_accuracy: 0.7417\n",
            "Epoch 10/100\n",
            "8/8 [==============================] - 0s 22ms/step - loss: 0.4603 - accuracy: 0.8564 - val_loss: 0.9393 - val_accuracy: 0.7417\n",
            "Epoch 11/100\n",
            "8/8 [==============================] - 0s 23ms/step - loss: 0.4798 - accuracy: 0.8598 - val_loss: 0.8310 - val_accuracy: 0.7417\n",
            "Epoch 12/100\n",
            "8/8 [==============================] - 0s 21ms/step - loss: 0.4460 - accuracy: 0.8364 - val_loss: 0.7705 - val_accuracy: 0.7417\n",
            "Epoch 13/100\n",
            "8/8 [==============================] - 0s 22ms/step - loss: 0.4426 - accuracy: 0.8345 - val_loss: 0.6225 - val_accuracy: 0.7833\n",
            "Epoch 14/100\n",
            "8/8 [==============================] - 0s 22ms/step - loss: 0.3229 - accuracy: 0.9248 - val_loss: 0.5708 - val_accuracy: 0.7917\n",
            "Epoch 15/100\n",
            "8/8 [==============================] - 0s 22ms/step - loss: 0.3600 - accuracy: 0.9261 - val_loss: 0.5577 - val_accuracy: 0.8250\n",
            "Epoch 16/100\n",
            "8/8 [==============================] - 0s 23ms/step - loss: 0.3459 - accuracy: 0.9033 - val_loss: 0.9653 - val_accuracy: 0.7000\n",
            "Epoch 17/100\n",
            "8/8 [==============================] - 0s 24ms/step - loss: 0.2444 - accuracy: 0.9434 - val_loss: 0.9366 - val_accuracy: 0.7417\n",
            "Epoch 18/100\n",
            "8/8 [==============================] - 0s 22ms/step - loss: 0.2885 - accuracy: 0.9188 - val_loss: 0.9967 - val_accuracy: 0.7333\n",
            "Epoch 19/100\n",
            "8/8 [==============================] - 0s 22ms/step - loss: 0.2344 - accuracy: 0.9486 - val_loss: 1.0321 - val_accuracy: 0.7417\n",
            "Epoch 20/100\n",
            "8/8 [==============================] - 0s 23ms/step - loss: 0.1908 - accuracy: 0.9374 - val_loss: 0.9744 - val_accuracy: 0.7083\n",
            "Epoch 21/100\n",
            "8/8 [==============================] - 0s 22ms/step - loss: 0.2221 - accuracy: 0.9423 - val_loss: 0.6195 - val_accuracy: 0.8417\n",
            "Epoch 22/100\n",
            "8/8 [==============================] - 0s 22ms/step - loss: 0.2845 - accuracy: 0.9049 - val_loss: 0.5147 - val_accuracy: 0.8583\n",
            "Epoch 23/100\n",
            "8/8 [==============================] - 0s 22ms/step - loss: 0.2261 - accuracy: 0.9513 - val_loss: 0.5571 - val_accuracy: 0.8417\n",
            "Epoch 24/100\n",
            "8/8 [==============================] - 0s 23ms/step - loss: 0.2387 - accuracy: 0.9215 - val_loss: 0.5706 - val_accuracy: 0.8250\n",
            "Epoch 25/100\n",
            "8/8 [==============================] - 0s 22ms/step - loss: 0.1542 - accuracy: 0.9552 - val_loss: 0.3189 - val_accuracy: 0.9167\n",
            "Epoch 26/100\n",
            "8/8 [==============================] - 0s 21ms/step - loss: 0.1749 - accuracy: 0.9475 - val_loss: 0.8009 - val_accuracy: 0.7750\n",
            "Epoch 27/100\n",
            "8/8 [==============================] - 0s 23ms/step - loss: 0.1282 - accuracy: 0.9778 - val_loss: 0.5196 - val_accuracy: 0.8500\n",
            "Epoch 28/100\n",
            "8/8 [==============================] - 0s 22ms/step - loss: 0.1769 - accuracy: 0.9267 - val_loss: 0.5125 - val_accuracy: 0.8667\n",
            "Epoch 29/100\n",
            "8/8 [==============================] - 0s 23ms/step - loss: 0.1145 - accuracy: 0.9690 - val_loss: 0.3711 - val_accuracy: 0.8917\n",
            "Epoch 30/100\n",
            "8/8 [==============================] - 0s 22ms/step - loss: 0.1597 - accuracy: 0.9494 - val_loss: 0.3582 - val_accuracy: 0.9000\n",
            "Epoch 31/100\n",
            "8/8 [==============================] - 0s 21ms/step - loss: 0.1255 - accuracy: 0.9646 - val_loss: 0.2861 - val_accuracy: 0.9167\n",
            "Epoch 32/100\n",
            "8/8 [==============================] - 0s 25ms/step - loss: 0.1516 - accuracy: 0.9636 - val_loss: 0.3009 - val_accuracy: 0.8917\n",
            "Epoch 33/100\n",
            "8/8 [==============================] - 0s 23ms/step - loss: 0.1177 - accuracy: 0.9757 - val_loss: 0.3090 - val_accuracy: 0.9000\n",
            "Epoch 34/100\n",
            "8/8 [==============================] - 0s 23ms/step - loss: 0.1268 - accuracy: 0.9546 - val_loss: 0.2257 - val_accuracy: 0.9250\n",
            "Epoch 35/100\n",
            "8/8 [==============================] - 0s 22ms/step - loss: 0.1279 - accuracy: 0.9761 - val_loss: 0.3596 - val_accuracy: 0.8917\n",
            "Epoch 36/100\n",
            "8/8 [==============================] - 0s 23ms/step - loss: 0.0606 - accuracy: 0.9923 - val_loss: 0.3097 - val_accuracy: 0.9083\n",
            "Epoch 37/100\n",
            "8/8 [==============================] - 0s 22ms/step - loss: 0.0658 - accuracy: 0.9916 - val_loss: 0.1455 - val_accuracy: 0.9333\n",
            "Epoch 38/100\n",
            "8/8 [==============================] - 0s 23ms/step - loss: 0.1523 - accuracy: 0.9830 - val_loss: 0.1671 - val_accuracy: 0.9333\n",
            "Epoch 39/100\n",
            "8/8 [==============================] - 0s 22ms/step - loss: 0.1003 - accuracy: 0.9766 - val_loss: 0.1898 - val_accuracy: 0.9250\n",
            "Epoch 40/100\n",
            "8/8 [==============================] - 0s 23ms/step - loss: 0.1515 - accuracy: 0.9659 - val_loss: 0.2136 - val_accuracy: 0.9333\n",
            "Epoch 41/100\n",
            "8/8 [==============================] - 0s 23ms/step - loss: 0.0637 - accuracy: 0.9801 - val_loss: 0.1680 - val_accuracy: 0.9333\n",
            "Epoch 42/100\n",
            "8/8 [==============================] - 0s 25ms/step - loss: 0.0845 - accuracy: 0.9847 - val_loss: 0.2304 - val_accuracy: 0.9333\n",
            "Epoch 43/100\n",
            "8/8 [==============================] - 0s 22ms/step - loss: 0.0786 - accuracy: 0.9844 - val_loss: 0.2581 - val_accuracy: 0.9417\n",
            "Epoch 44/100\n",
            "8/8 [==============================] - 0s 21ms/step - loss: 0.0750 - accuracy: 0.9829 - val_loss: 0.2058 - val_accuracy: 0.9417\n",
            "Epoch 45/100\n",
            "8/8 [==============================] - 0s 22ms/step - loss: 0.0412 - accuracy: 0.9951 - val_loss: 0.1863 - val_accuracy: 0.9417\n",
            "Epoch 46/100\n",
            "8/8 [==============================] - 0s 24ms/step - loss: 0.0327 - accuracy: 0.9979 - val_loss: 0.1752 - val_accuracy: 0.9333\n",
            "Epoch 47/100\n",
            "8/8 [==============================] - 0s 22ms/step - loss: 0.0731 - accuracy: 0.9834 - val_loss: 0.1729 - val_accuracy: 0.9333\n",
            "Epoch 48/100\n",
            "8/8 [==============================] - 0s 23ms/step - loss: 0.0442 - accuracy: 1.0000 - val_loss: 0.1714 - val_accuracy: 0.9333\n",
            "Epoch 49/100\n",
            "8/8 [==============================] - 0s 23ms/step - loss: 0.0922 - accuracy: 0.9660 - val_loss: 0.1647 - val_accuracy: 0.9417\n",
            "Epoch 50/100\n",
            "8/8 [==============================] - 0s 24ms/step - loss: 0.0318 - accuracy: 0.9979 - val_loss: 0.1627 - val_accuracy: 0.9417\n",
            "Epoch 51/100\n",
            "8/8 [==============================] - 0s 23ms/step - loss: 0.0388 - accuracy: 0.9951 - val_loss: 0.1578 - val_accuracy: 0.9417\n",
            "Epoch 52/100\n",
            "8/8 [==============================] - 0s 24ms/step - loss: 0.0552 - accuracy: 0.9910 - val_loss: 0.1542 - val_accuracy: 0.9417\n",
            "Epoch 53/100\n",
            "8/8 [==============================] - 0s 25ms/step - loss: 0.0556 - accuracy: 0.9875 - val_loss: 0.1491 - val_accuracy: 0.9417\n",
            "Epoch 54/100\n",
            "8/8 [==============================] - 0s 22ms/step - loss: 0.0370 - accuracy: 0.9958 - val_loss: 0.1450 - val_accuracy: 0.9417\n",
            "Epoch 55/100\n",
            "8/8 [==============================] - 0s 25ms/step - loss: 0.0690 - accuracy: 0.9895 - val_loss: 0.1423 - val_accuracy: 0.9500\n",
            "Epoch 56/100\n",
            "8/8 [==============================] - 0s 23ms/step - loss: 0.0540 - accuracy: 0.9910 - val_loss: 0.1414 - val_accuracy: 0.9500\n",
            "Epoch 57/100\n",
            "8/8 [==============================] - 0s 22ms/step - loss: 0.0425 - accuracy: 0.9964 - val_loss: 0.1394 - val_accuracy: 0.9500\n",
            "Epoch 58/100\n",
            "8/8 [==============================] - 0s 22ms/step - loss: 0.1051 - accuracy: 0.9569 - val_loss: 0.1361 - val_accuracy: 0.9500\n",
            "Epoch 59/100\n",
            "8/8 [==============================] - 0s 23ms/step - loss: 0.0670 - accuracy: 0.9822 - val_loss: 0.1340 - val_accuracy: 0.9500\n",
            "Epoch 60/100\n",
            "8/8 [==============================] - 0s 22ms/step - loss: 0.0583 - accuracy: 0.9945 - val_loss: 0.1321 - val_accuracy: 0.9500\n",
            "Epoch 61/100\n",
            "8/8 [==============================] - 0s 21ms/step - loss: 0.0386 - accuracy: 0.9993 - val_loss: 0.1339 - val_accuracy: 0.9417\n",
            "Epoch 62/100\n",
            "8/8 [==============================] - 0s 23ms/step - loss: 0.0465 - accuracy: 0.9965 - val_loss: 0.1349 - val_accuracy: 0.9500\n",
            "Epoch 63/100\n",
            "8/8 [==============================] - 0s 24ms/step - loss: 0.0514 - accuracy: 0.9862 - val_loss: 0.1342 - val_accuracy: 0.9500\n",
            "Epoch 64/100\n",
            "8/8 [==============================] - 0s 23ms/step - loss: 0.0418 - accuracy: 0.9884 - val_loss: 0.1352 - val_accuracy: 0.9500\n",
            "Epoch 65/100\n",
            "8/8 [==============================] - 0s 22ms/step - loss: 0.0383 - accuracy: 0.9873 - val_loss: 0.1355 - val_accuracy: 0.9500\n",
            "Epoch 66/100\n",
            "8/8 [==============================] - 0s 22ms/step - loss: 0.0650 - accuracy: 0.9815 - val_loss: 0.1364 - val_accuracy: 0.9500\n",
            "Epoch 67/100\n",
            "8/8 [==============================] - 0s 23ms/step - loss: 0.0462 - accuracy: 0.9910 - val_loss: 0.1366 - val_accuracy: 0.9417\n",
            "Epoch 68/100\n",
            "8/8 [==============================] - 0s 22ms/step - loss: 0.0494 - accuracy: 0.9927 - val_loss: 0.1365 - val_accuracy: 0.9500\n",
            "Epoch 69/100\n",
            "8/8 [==============================] - 0s 25ms/step - loss: 0.0495 - accuracy: 0.9809 - val_loss: 0.1367 - val_accuracy: 0.9500\n",
            "Epoch 70/100\n",
            "8/8 [==============================] - 0s 23ms/step - loss: 0.0579 - accuracy: 0.9865 - val_loss: 0.1365 - val_accuracy: 0.9500\n",
            "Epoch 71/100\n",
            "8/8 [==============================] - 0s 22ms/step - loss: 0.0345 - accuracy: 0.9952 - val_loss: 0.1363 - val_accuracy: 0.9500\n",
            "Epoch 72/100\n",
            "8/8 [==============================] - 0s 22ms/step - loss: 0.0383 - accuracy: 0.9959 - val_loss: 0.1353 - val_accuracy: 0.9500\n",
            "Epoch 73/100\n",
            "8/8 [==============================] - 0s 24ms/step - loss: 0.0719 - accuracy: 0.9744 - val_loss: 0.1344 - val_accuracy: 0.9500\n",
            "Epoch 74/100\n",
            "8/8 [==============================] - 0s 23ms/step - loss: 0.0505 - accuracy: 0.9898 - val_loss: 0.1340 - val_accuracy: 0.9500\n",
            "Epoch 75/100\n",
            "8/8 [==============================] - 0s 22ms/step - loss: 0.0384 - accuracy: 0.9872 - val_loss: 0.1336 - val_accuracy: 0.9500\n",
            "Epoch 76/100\n",
            "8/8 [==============================] - 0s 22ms/step - loss: 0.0504 - accuracy: 0.9907 - val_loss: 0.1335 - val_accuracy: 0.9500\n",
            "Epoch 77/100\n",
            "8/8 [==============================] - 0s 22ms/step - loss: 0.0854 - accuracy: 0.9779 - val_loss: 0.1334 - val_accuracy: 0.9500\n",
            "Epoch 78/100\n",
            "8/8 [==============================] - 0s 24ms/step - loss: 0.0416 - accuracy: 1.0000 - val_loss: 0.1330 - val_accuracy: 0.9500\n",
            "Epoch 79/100\n",
            "8/8 [==============================] - 0s 23ms/step - loss: 0.0806 - accuracy: 0.9824 - val_loss: 0.1331 - val_accuracy: 0.9500\n",
            "Epoch 80/100\n",
            "8/8 [==============================] - 0s 23ms/step - loss: 0.0333 - accuracy: 0.9979 - val_loss: 0.1331 - val_accuracy: 0.9500\n",
            "Epoch 81/100\n",
            "8/8 [==============================] - 0s 22ms/step - loss: 0.0445 - accuracy: 0.9903 - val_loss: 0.1327 - val_accuracy: 0.9500\n",
            "Epoch 82/100\n",
            "8/8 [==============================] - 0s 23ms/step - loss: 0.0499 - accuracy: 0.9949 - val_loss: 0.1327 - val_accuracy: 0.9500\n",
            "Epoch 83/100\n",
            "8/8 [==============================] - 0s 21ms/step - loss: 0.0690 - accuracy: 0.9807 - val_loss: 0.1322 - val_accuracy: 0.9500\n",
            "Epoch 84/100\n",
            "8/8 [==============================] - 0s 22ms/step - loss: 0.0409 - accuracy: 0.9871 - val_loss: 0.1322 - val_accuracy: 0.9500\n",
            "Epoch 85/100\n",
            "8/8 [==============================] - 0s 23ms/step - loss: 0.0340 - accuracy: 0.9972 - val_loss: 0.1320 - val_accuracy: 0.9500\n",
            "Epoch 86/100\n",
            "8/8 [==============================] - 0s 21ms/step - loss: 0.0407 - accuracy: 0.9925 - val_loss: 0.1322 - val_accuracy: 0.9500\n",
            "Epoch 87/100\n",
            "8/8 [==============================] - 0s 24ms/step - loss: 0.0322 - accuracy: 0.9963 - val_loss: 0.1321 - val_accuracy: 0.9500\n",
            "Epoch 88/100\n",
            "8/8 [==============================] - 0s 22ms/step - loss: 0.0535 - accuracy: 0.9968 - val_loss: 0.1321 - val_accuracy: 0.9500\n",
            "Epoch 89/100\n",
            "8/8 [==============================] - 0s 22ms/step - loss: 0.0509 - accuracy: 0.9903 - val_loss: 0.1320 - val_accuracy: 0.9500\n",
            "Epoch 90/100\n",
            "8/8 [==============================] - 0s 23ms/step - loss: 0.0487 - accuracy: 0.9915 - val_loss: 0.1318 - val_accuracy: 0.9500\n",
            "Epoch 91/100\n",
            "8/8 [==============================] - 0s 23ms/step - loss: 0.0584 - accuracy: 0.9900 - val_loss: 0.1315 - val_accuracy: 0.9500\n",
            "Epoch 92/100\n",
            "8/8 [==============================] - 0s 23ms/step - loss: 0.0347 - accuracy: 0.9984 - val_loss: 0.1314 - val_accuracy: 0.9500\n",
            "Epoch 93/100\n",
            "8/8 [==============================] - 0s 22ms/step - loss: 0.0453 - accuracy: 0.9957 - val_loss: 0.1318 - val_accuracy: 0.9500\n",
            "Epoch 94/100\n",
            "8/8 [==============================] - 0s 25ms/step - loss: 0.0384 - accuracy: 1.0000 - val_loss: 0.1318 - val_accuracy: 0.9500\n",
            "Epoch 95/100\n",
            "8/8 [==============================] - 0s 23ms/step - loss: 0.0476 - accuracy: 0.9862 - val_loss: 0.1318 - val_accuracy: 0.9500\n",
            "Epoch 96/100\n",
            "8/8 [==============================] - 0s 22ms/step - loss: 0.0481 - accuracy: 0.9818 - val_loss: 0.1317 - val_accuracy: 0.9500\n",
            "Epoch 97/100\n",
            "8/8 [==============================] - 0s 23ms/step - loss: 0.0588 - accuracy: 0.9861 - val_loss: 0.1317 - val_accuracy: 0.9500\n",
            "Epoch 98/100\n",
            "8/8 [==============================] - 0s 22ms/step - loss: 0.0497 - accuracy: 0.9964 - val_loss: 0.1312 - val_accuracy: 0.9500\n",
            "Epoch 99/100\n",
            "8/8 [==============================] - 0s 22ms/step - loss: 0.1072 - accuracy: 0.9495 - val_loss: 0.1307 - val_accuracy: 0.9500\n",
            "Epoch 100/100\n",
            "8/8 [==============================] - 0s 22ms/step - loss: 0.0420 - accuracy: 0.9851 - val_loss: 0.1304 - val_accuracy: 0.9500\n"
          ],
          "name": "stdout"
        }
      ]
    }
  ]
}